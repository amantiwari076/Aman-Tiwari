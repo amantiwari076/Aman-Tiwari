{
 "cells": [
  {
   "cell_type": "code",
   "execution_count": 1,
   "id": "635fa978",
   "metadata": {},
   "outputs": [],
   "source": [
    "x=\"India\""
   ]
  },
  {
   "cell_type": "code",
   "execution_count": 3,
   "id": "28890594",
   "metadata": {},
   "outputs": [
    {
     "data": {
      "text/plain": [
       "5"
      ]
     },
     "execution_count": 3,
     "metadata": {},
     "output_type": "execute_result"
    }
   ],
   "source": [
    "len(x)"
   ]
  },
  {
   "cell_type": "code",
   "execution_count": 4,
   "id": "974ea370",
   "metadata": {},
   "outputs": [],
   "source": [
    "x=\"I will go as soon as possible\""
   ]
  },
  {
   "cell_type": "code",
   "execution_count": 5,
   "id": "d2ca50aa",
   "metadata": {},
   "outputs": [
    {
     "data": {
      "text/plain": [
       "29"
      ]
     },
     "execution_count": 5,
     "metadata": {},
     "output_type": "execute_result"
    }
   ],
   "source": [
    "len(x)"
   ]
  },
  {
   "cell_type": "code",
   "execution_count": 6,
   "id": "d0cf0c29",
   "metadata": {},
   "outputs": [],
   "source": [
    "x=\"India\""
   ]
  },
  {
   "cell_type": "code",
   "execution_count": null,
   "id": "9d0060bc",
   "metadata": {},
   "outputs": [],
   "source": []
  },
  {
   "cell_type": "code",
   "execution_count": null,
   "id": "353d6554",
   "metadata": {},
   "outputs": [],
   "source": []
  },
  {
   "cell_type": "code",
   "execution_count": 13,
   "id": "cb24de7f",
   "metadata": {},
   "outputs": [
    {
     "name": "stdout",
     "output_type": "stream",
     "text": [
      "I\n",
      "n\n",
      "d\n",
      "i\n",
      "a\n"
     ]
    }
   ],
   "source": [
    "str=\"I will go soon\"\n",
    "for i in x:\n",
    "    print(i)"
   ]
  },
  {
   "cell_type": "code",
   "execution_count": 10,
   "id": "fac37781",
   "metadata": {},
   "outputs": [
    {
     "name": "stdout",
     "output_type": "stream",
     "text": [
      "a\n",
      "i\n",
      "d\n",
      "n\n",
      "I\n"
     ]
    }
   ],
   "source": [
    "x=\"India\"\n",
    "for i in range(1,(len(x)+1)):\n",
    "    print(x[-i])"
   ]
  },
  {
   "cell_type": "code",
   "execution_count": 14,
   "id": "6bb8289f",
   "metadata": {},
   "outputs": [
    {
     "name": "stdout",
     "output_type": "stream",
     "text": [
      "i\n",
      "h\n",
      "l\n",
      "e\n",
      "d\n",
      " \n",
      "o\n",
      "g\n",
      " \n",
      "l\n",
      "l\n",
      "i\n",
      "w\n",
      " \n",
      "I\n"
     ]
    }
   ],
   "source": [
    "x=\"I will go delhi\"\n",
    "for i in range(1,(len(x)+1)):\n",
    "    print(x[-i])"
   ]
  },
  {
   "cell_type": "code",
   "execution_count": 21,
   "id": "6302cb82",
   "metadata": {},
   "outputs": [],
   "source": [
    "x=\"I will go delhi\"\n",
    "def delhi(x):\n",
    "    for i in x:\n",
    "        print(i,end=\" \")\n",
    "    print()   \n",
    "    for i in range(1,(len(x)+1)):\n",
    "        print(x[-i],end=\" \")\n",
    "     "
   ]
  },
  {
   "cell_type": "code",
   "execution_count": 22,
   "id": "47506f18",
   "metadata": {},
   "outputs": [
    {
     "name": "stdout",
     "output_type": "stream",
     "text": [
      "I   w i l l   g o   d e l h i \n",
      "i h l e d   o g   l l i w   I "
     ]
    }
   ],
   "source": [
    "delhi(x)"
   ]
  },
  {
   "cell_type": "code",
   "execution_count": null,
   "id": "e1edec45",
   "metadata": {},
   "outputs": [],
   "source": []
  },
  {
   "cell_type": "code",
   "execution_count": null,
   "id": "1de74d44",
   "metadata": {},
   "outputs": [],
   "source": []
  }
 ],
 "metadata": {
  "kernelspec": {
   "display_name": "Python 3",
   "language": "python",
   "name": "python3"
  },
  "language_info": {
   "codemirror_mode": {
    "name": "ipython",
    "version": 3
   },
   "file_extension": ".py",
   "mimetype": "text/x-python",
   "name": "python",
   "nbconvert_exporter": "python",
   "pygments_lexer": "ipython3",
   "version": "3.8.8"
  }
 },
 "nbformat": 4,
 "nbformat_minor": 5
}
