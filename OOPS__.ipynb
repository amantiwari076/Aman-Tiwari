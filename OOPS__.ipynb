{
 "cells": [
  {
   "cell_type": "code",
   "execution_count": 13,
   "id": "3dd210cf",
   "metadata": {},
   "outputs": [
    {
     "name": "stdout",
     "output_type": "stream",
     "text": [
      "Aman 23 12\n"
     ]
    }
   ],
   "source": [
    "# Working with single class\n",
    "\n",
    "class student:\n",
    "    def detail(self,name,age,stan): #self is for self arugment\n",
    "        print(name,age,stan)\n",
    "        \n",
    "#making an object of class\n",
    "\n",
    "s=student()\n",
    "s.detail(\"Aman\",23,12)"
   ]
  },
  {
   "cell_type": "code",
   "execution_count": null,
   "id": "d90da637",
   "metadata": {},
   "outputs": [],
   "source": []
  },
  {
   "cell_type": "code",
   "execution_count": 16,
   "id": "9a5bfe58",
   "metadata": {},
   "outputs": [
    {
     "name": "stdout",
     "output_type": "stream",
     "text": [
      "Aman 23\n",
      "maths 67\n"
     ]
    }
   ],
   "source": [
    "class student:  #this is parent class\n",
    "    def detail(self,name,age):\n",
    "        print(name,age)\n",
    "        \n",
    "# second class\n",
    "\n",
    "class student2(student):   #this is child class \n",
    "    def detail1(self,name,age,sub,marks):\n",
    "        super().detail(name,age)\n",
    "        print(sub,marks)\n",
    "        \n",
    "#  when we are creating object of class ,we always create object of child class\n",
    "\n",
    "\n",
    "# making an object of class\n",
    "x=student2()\n",
    "x.detail1('Aman',23,\"maths\",67)"
   ]
  },
  {
   "cell_type": "code",
   "execution_count": null,
   "id": "ba780fef",
   "metadata": {},
   "outputs": [],
   "source": []
  },
  {
   "cell_type": "code",
   "execution_count": null,
   "id": "e9ecd345",
   "metadata": {},
   "outputs": [],
   "source": []
  },
  {
   "cell_type": "code",
   "execution_count": null,
   "id": "f5c0f56f",
   "metadata": {},
   "outputs": [],
   "source": []
  },
  {
   "cell_type": "code",
   "execution_count": null,
   "id": "a9e47272",
   "metadata": {},
   "outputs": [],
   "source": []
  },
  {
   "cell_type": "code",
   "execution_count": null,
   "id": "5e2145ab",
   "metadata": {},
   "outputs": [],
   "source": []
  },
  {
   "cell_type": "code",
   "execution_count": 1,
   "id": "3a39e303",
   "metadata": {},
   "outputs": [
    {
     "data": {
      "text/plain": [
       "'AB+'"
      ]
     },
     "execution_count": 1,
     "metadata": {},
     "output_type": "execute_result"
    }
   ],
   "source": [
    "class technodi:\n",
    "    def __init__(self,emp,sal):\n",
    "        self.emp=emp\n",
    "        self.sal=sal\n",
    "        \n",
    "class next(technodi):\n",
    "    def __init__(self,emp,sal,empid,blood):\n",
    "        super().__init__(emp,sal)\n",
    "        self.empid=empid\n",
    "        self.blood=blood\n",
    "        \n",
    "s=next(\"Aman\",26700,1211,\"AB+\")\n",
    "s.blood"
   ]
  },
  {
   "cell_type": "code",
   "execution_count": 2,
   "id": "a693c021",
   "metadata": {},
   "outputs": [
    {
     "data": {
      "text/plain": [
       "26700"
      ]
     },
     "execution_count": 2,
     "metadata": {},
     "output_type": "execute_result"
    }
   ],
   "source": [
    "s.sal"
   ]
  },
  {
   "cell_type": "code",
   "execution_count": 3,
   "id": "be431568",
   "metadata": {},
   "outputs": [
    {
     "data": {
      "text/plain": [
       "1211"
      ]
     },
     "execution_count": 3,
     "metadata": {},
     "output_type": "execute_result"
    }
   ],
   "source": [
    "s.empid"
   ]
  },
  {
   "cell_type": "code",
   "execution_count": null,
   "id": "dbb4011a",
   "metadata": {},
   "outputs": [],
   "source": []
  },
  {
   "cell_type": "code",
   "execution_count": 6,
   "id": "8fba1d07",
   "metadata": {},
   "outputs": [
    {
     "data": {
      "text/plain": [
       "67"
      ]
     },
     "execution_count": 6,
     "metadata": {},
     "output_type": "execute_result"
    }
   ],
   "source": [
    "class cool:\n",
    "    def __init__(self,name,age):\n",
    "        self.name=name\n",
    "        self.age=age\n",
    "class ex_cool(cool):\n",
    "    def __init__(self,name,age,sub,marks):\n",
    "        super().__init__(name,age)\n",
    "        self.sub=sub\n",
    "        self.marks=marks\n",
    "\n",
    "        \n",
    "x=ex_cool('Aman',23,'something',67)\n",
    "x.marks"
   ]
  },
  {
   "cell_type": "code",
   "execution_count": 7,
   "id": "e6ddf4db",
   "metadata": {},
   "outputs": [
    {
     "data": {
      "text/plain": [
       "'Aman'"
      ]
     },
     "execution_count": 7,
     "metadata": {},
     "output_type": "execute_result"
    }
   ],
   "source": [
    "x.name\n"
   ]
  },
  {
   "cell_type": "code",
   "execution_count": 8,
   "id": "505574e5",
   "metadata": {},
   "outputs": [
    {
     "data": {
      "text/plain": [
       "23"
      ]
     },
     "execution_count": 8,
     "metadata": {},
     "output_type": "execute_result"
    }
   ],
   "source": [
    "x.age"
   ]
  },
  {
   "cell_type": "code",
   "execution_count": 9,
   "id": "6a10c55b",
   "metadata": {},
   "outputs": [
    {
     "data": {
      "text/plain": [
       "'something'"
      ]
     },
     "execution_count": 9,
     "metadata": {},
     "output_type": "execute_result"
    }
   ],
   "source": [
    "x.sub"
   ]
  },
  {
   "cell_type": "code",
   "execution_count": null,
   "id": "5a74e3f3",
   "metadata": {},
   "outputs": [],
   "source": []
  }
 ],
 "metadata": {
  "kernelspec": {
   "display_name": "Python 3 (ipykernel)",
   "language": "python",
   "name": "python3"
  },
  "language_info": {
   "codemirror_mode": {
    "name": "ipython",
    "version": 3
   },
   "file_extension": ".py",
   "mimetype": "text/x-python",
   "name": "python",
   "nbconvert_exporter": "python",
   "pygments_lexer": "ipython3",
   "version": "3.9.7"
  }
 },
 "nbformat": 4,
 "nbformat_minor": 5
}
