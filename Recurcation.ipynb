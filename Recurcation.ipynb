{
 "cells": [
  {
   "cell_type": "code",
   "execution_count": null,
   "id": "38eac931",
   "metadata": {},
   "outputs": [],
   "source": [
    "x=[(1,\"a\",),(2,\"c\",\"d\"),(3,\"e\",\"f\")]\n",
    "for i in range(x):\n",
    "    "
   ]
  },
  {
   "cell_type": "code",
   "execution_count": null,
   "id": "cb121d96",
   "metadata": {},
   "outputs": [],
   "source": []
  },
  {
   "cell_type": "code",
   "execution_count": 2,
   "id": "59f6a078",
   "metadata": {},
   "outputs": [],
   "source": [
    "def f1(*a):\n",
    "    print(a)"
   ]
  },
  {
   "cell_type": "code",
   "execution_count": 4,
   "id": "5e4621b3",
   "metadata": {},
   "outputs": [
    {
     "name": "stdout",
     "output_type": "stream",
     "text": [
      "(2, 4, 4, 56, 8, 9, 2)\n"
     ]
    }
   ],
   "source": [
    "f1(2,4,4,56,8,9,2)"
   ]
  },
  {
   "cell_type": "code",
   "execution_count": null,
   "id": "46bb87e3",
   "metadata": {},
   "outputs": [],
   "source": []
  },
  {
   "cell_type": "code",
   "execution_count": null,
   "id": "bc572c09",
   "metadata": {},
   "outputs": [],
   "source": []
  },
  {
   "cell_type": "code",
   "execution_count": null,
   "id": "9ed400f6",
   "metadata": {},
   "outputs": [],
   "source": []
  },
  {
   "cell_type": "code",
   "execution_count": null,
   "id": "901fa9cf",
   "metadata": {},
   "outputs": [],
   "source": []
  },
  {
   "cell_type": "code",
   "execution_count": 9,
   "id": "b9d17977",
   "metadata": {},
   "outputs": [],
   "source": [
    "def add(*a):\n",
    "    a=list[a]\n",
    "    sum=0\n",
    "    for i in a:\n",
    "        sum=sum+i\n",
    "    print(sum)\n",
    "    print(a)\n",
    "        "
   ]
  },
  {
   "cell_type": "code",
   "execution_count": 10,
   "id": "83866c2e",
   "metadata": {},
   "outputs": [],
   "source": []
  },
  {
   "cell_type": "code",
   "execution_count": null,
   "id": "db56021d",
   "metadata": {},
   "outputs": [],
   "source": []
  },
  {
   "cell_type": "code",
   "execution_count": 14,
   "id": "4bf4811f",
   "metadata": {},
   "outputs": [
    {
     "name": "stdout",
     "output_type": "stream",
     "text": [
      "Enter any number2\n"
     ]
    }
   ],
   "source": [
    "x=int(input(\"Enter any number\"))\n",
    "def max(x):\n",
    "    max=0\n",
    "    for i in x:\n",
    "        max=max*i\n",
    "        print(max)\n",
    "        "
   ]
  },
  {
   "cell_type": "code",
   "execution_count": null,
   "id": "c7beec7c",
   "metadata": {},
   "outputs": [],
   "source": []
  },
  {
   "cell_type": "code",
   "execution_count": null,
   "id": "da558c1e",
   "metadata": {},
   "outputs": [],
   "source": []
  },
  {
   "cell_type": "code",
   "execution_count": 19,
   "id": "a89f7c36",
   "metadata": {},
   "outputs": [],
   "source": [
    "k=1\n",
    "def f1(*a):\n",
    "    a=a[0]\n",
    "    max=a[0]\n",
    "    for i in a:\n",
    "        if(i>max):\n",
    "            max=i\n",
    "    print(max)\n",
    "    print(\"If user want next data enter 0 else enter\")\n",
    "    k=int(input())\n",
    "    if(k==0):\n",
    "        pass\n",
    "    else:\n",
    "        a.append(k)\n",
    "        f1(a)"
   ]
  },
  {
   "cell_type": "code",
   "execution_count": 20,
   "id": "9c39bda6",
   "metadata": {},
   "outputs": [
    {
     "name": "stdout",
     "output_type": "stream",
     "text": [
      "2\n",
      "If user want next data enter 0 else enter\n",
      "8\n",
      "8\n",
      "If user want next data enter 0 else enter\n",
      "8\n",
      "8\n",
      "If user want next data enter 0 else enter\n",
      "9\n",
      "9\n",
      "If user want next data enter 0 else enter\n",
      "777\n",
      "777\n",
      "If user want next data enter 0 else enter\n",
      "5\n",
      "777\n",
      "If user want next data enter 0 else enter\n",
      "0\n"
     ]
    }
   ],
   "source": [
    "f1([2])"
   ]
  },
  {
   "cell_type": "code",
   "execution_count": 22,
   "id": "d210f292",
   "metadata": {},
   "outputs": [
    {
     "ename": "SyntaxError",
     "evalue": "unexpected EOF while parsing (<ipython-input-22-d9bba9faafea>, line 6)",
     "output_type": "error",
     "traceback": [
      "\u001b[0;36m  File \u001b[0;32m\"<ipython-input-22-d9bba9faafea>\"\u001b[0;36m, line \u001b[0;32m6\u001b[0m\n\u001b[0;31m    \u001b[0m\n\u001b[0m    ^\u001b[0m\n\u001b[0;31mSyntaxError\u001b[0m\u001b[0;31m:\u001b[0m unexpected EOF while parsing\n"
     ]
    }
   ],
   "source": [
    "x=int(input(\"enter Number\"))\n",
    "def f1(x):\n",
    "    max=x[0]\n",
    "    for i in x:\n",
    "        \n",
    "        "
   ]
  },
  {
   "cell_type": "code",
   "execution_count": null,
   "id": "2cdbeed6",
   "metadata": {},
   "outputs": [],
   "source": []
  },
  {
   "cell_type": "code",
   "execution_count": null,
   "id": "f4892f3f",
   "metadata": {},
   "outputs": [],
   "source": []
  },
  {
   "cell_type": "code",
   "execution_count": 23,
   "id": "9f98377f",
   "metadata": {},
   "outputs": [],
   "source": [
    "def f1(R,D):\n",
    "    max=R[0]\n",
    "    for i in R:\n",
    "        if(i>max):\n",
    "            max=i\n",
    "        min=D[0]\n",
    "        for i in D:\n",
    "            if(i<min):\n",
    "                min=i\n",
    "            print(max+min)    \n",
    "    "
   ]
  },
  {
   "cell_type": "code",
   "execution_count": null,
   "id": "687f03e2",
   "metadata": {},
   "outputs": [],
   "source": [
    "k=1\n",
    "R=[]\n",
    "D=[]\n",
    "print()"
   ]
  },
  {
   "cell_type": "code",
   "execution_count": null,
   "id": "7f9b63a5",
   "metadata": {},
   "outputs": [],
   "source": []
  },
  {
   "cell_type": "code",
   "execution_count": null,
   "id": "281ea886",
   "metadata": {},
   "outputs": [],
   "source": []
  },
  {
   "cell_type": "code",
   "execution_count": null,
   "id": "dcb7f440",
   "metadata": {},
   "outputs": [],
   "source": []
  },
  {
   "cell_type": "code",
   "execution_count": 21,
   "id": "923efcdf",
   "metadata": {},
   "outputs": [],
   "source": [
    "def d1(x):\n",
    "    max=x[0]\n",
    "    for i in x:\n",
    "        if i in x:\n",
    "            if(i>max):max=i\n",
    "        "
   ]
  },
  {
   "cell_type": "code",
   "execution_count": null,
   "id": "0d0cf5b2",
   "metadata": {},
   "outputs": [],
   "source": []
  },
  {
   "cell_type": "code",
   "execution_count": null,
   "id": "42485260",
   "metadata": {},
   "outputs": [],
   "source": []
  },
  {
   "cell_type": "code",
   "execution_count": null,
   "id": "520a251a",
   "metadata": {},
   "outputs": [],
   "source": []
  },
  {
   "cell_type": "code",
   "execution_count": null,
   "id": "1f94f9fd",
   "metadata": {},
   "outputs": [],
   "source": []
  },
  {
   "cell_type": "code",
   "execution_count": null,
   "id": "10a496bc",
   "metadata": {},
   "outputs": [],
   "source": []
  },
  {
   "cell_type": "code",
   "execution_count": 25,
   "id": "3c538568",
   "metadata": {},
   "outputs": [],
   "source": [
    "k=1\n",
    "def f1(*a):\n",
    "    a=a[0]\n",
    "    sum=a[0]\n",
    "    sum=0\n",
    "    for i in a:\n",
    "        if(i%2==0):\n",
    "            sum=sum+i\n",
    "    print(sum)\n",
    "    print(\"enter data 0 else data\")\n",
    "    k=int(input())\n",
    "    if(k==0):\n",
    "        pass\n",
    "    else:\n",
    "        a.append(k)\n",
    "        f1(a)"
   ]
  },
  {
   "cell_type": "code",
   "execution_count": 27,
   "id": "f0495d12",
   "metadata": {},
   "outputs": [
    {
     "name": "stdout",
     "output_type": "stream",
     "text": [
      "60\n",
      "enter data 0 else data\n",
      "5\n",
      "60\n",
      "enter data 0 else data\n",
      "66\n",
      "126\n",
      "enter data 0 else data\n",
      "666\n",
      "792\n",
      "enter data 0 else data\n",
      "77\n",
      "792\n",
      "enter data 0 else data\n",
      "777\n",
      "792\n",
      "enter data 0 else data\n",
      "32\n",
      "824\n",
      "enter data 0 else data\n",
      "0\n"
     ]
    }
   ],
   "source": [
    "f1(a)"
   ]
  },
  {
   "cell_type": "code",
   "execution_count": null,
   "id": "b2b242ae",
   "metadata": {},
   "outputs": [],
   "source": []
  }
 ],
 "metadata": {
  "kernelspec": {
   "display_name": "Python 3",
   "language": "python",
   "name": "python3"
  },
  "language_info": {
   "codemirror_mode": {
    "name": "ipython",
    "version": 3
   },
   "file_extension": ".py",
   "mimetype": "text/x-python",
   "name": "python",
   "nbconvert_exporter": "python",
   "pygments_lexer": "ipython3",
   "version": "3.8.8"
  }
 },
 "nbformat": 4,
 "nbformat_minor": 5
}
